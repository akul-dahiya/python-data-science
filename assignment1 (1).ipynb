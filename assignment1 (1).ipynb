{
 "cells": [
  {
   "cell_type": "code",
   "execution_count": 4,
   "id": "3935cd7f-b75f-4232-9270-2fbf888f9361",
   "metadata": {},
   "outputs": [],
   "source": [
    "# Assignment 1\n",
    "#Q1. Create one variable containing following type of data:\n",
    "# (i) string\n",
    "# (ii) list\n",
    "# (iii) float\n",
    "# (iv) tuple\n",
    "\n",
    "\n",
    "my_string = \"This is python\"\n",
    "my_list = [34,35,23,\"ram\",45.3,True]\n",
    "my_float = 345.232\n",
    "my_tuple = (23,5,123,12)"
   ]
  },
  {
   "cell_type": "code",
   "execution_count": 6,
   "id": "9b89591d-3b28-4a46-9627-054ba4df8a8e",
   "metadata": {},
   "outputs": [
    {
     "data": {
      "text/plain": [
       "str"
      ]
     },
     "execution_count": 6,
     "metadata": {},
     "output_type": "execute_result"
    }
   ],
   "source": [
    "# Q2. Given are some following variables containing data:\n",
    "# (i) var1 = ‘ ‘\n",
    "# (ii) var2 = ‘[ DS , ML , Python]’\n",
    "# (iii) var3 = [ ‘DS’ , ’ML’ , ‘Python’ ]\n",
    "# (iv) var4 = 1.\n",
    "# What will be the data type of the above given variable.\n",
    "\n",
    "var1 = ' '\n",
    "type(var1)"
   ]
  },
  {
   "cell_type": "code",
   "execution_count": 7,
   "id": "d1d470ee-9540-4bee-8d5a-7a5cff220cd8",
   "metadata": {},
   "outputs": [
    {
     "data": {
      "text/plain": [
       "str"
      ]
     },
     "execution_count": 7,
     "metadata": {},
     "output_type": "execute_result"
    }
   ],
   "source": [
    "var2 = '[DS , ML , Python]'\n",
    "type(var2)"
   ]
  },
  {
   "cell_type": "code",
   "execution_count": 8,
   "id": "4d24978c-2ab7-4d18-bfa9-c5a9b6d232c4",
   "metadata": {},
   "outputs": [
    {
     "data": {
      "text/plain": [
       "list"
      ]
     },
     "execution_count": 8,
     "metadata": {},
     "output_type": "execute_result"
    }
   ],
   "source": [
    "var3 = ['DS' , 'ML', 'Python']\n",
    "type(var3)"
   ]
  },
  {
   "cell_type": "code",
   "execution_count": 9,
   "id": "1587fa74-d848-4291-a000-87fef2178220",
   "metadata": {},
   "outputs": [
    {
     "data": {
      "text/plain": [
       "int"
      ]
     },
     "execution_count": 9,
     "metadata": {},
     "output_type": "execute_result"
    }
   ],
   "source": [
    "var4 = 1\n",
    "type(var4)"
   ]
  },
  {
   "cell_type": "code",
   "execution_count": 15,
   "id": "680341f7-1569-494e-bef0-beffd964257a",
   "metadata": {},
   "outputs": [],
   "source": [
    "# Q3. Explain the use of the following operators using an example:\n",
    "# (i) /   -- used to division with floating points\n",
    "# (ii) %  -- used to get reminder\n",
    "# (iii) // -- used to division without floating point\n",
    "# (iv) **  -- used to find power"
   ]
  },
  {
   "cell_type": "code",
   "execution_count": 19,
   "id": "b269a541-5c7b-4de2-9a45-86642cf5fa06",
   "metadata": {},
   "outputs": [
    {
     "name": "stdout",
     "output_type": "stream",
     "text": [
      "<class 'int'>\n",
      "34\n",
      "<class 'int'>\n",
      "2\n",
      "<class 'int'>\n",
      "5\n",
      "<class 'str'>\n",
      "ram\n",
      "<class 'str'>\n",
      "sita\n",
      "<class 'float'>\n",
      "342.5\n",
      "<class 'bool'>\n",
      "False\n",
      "<class 'float'>\n",
      "34.2\n",
      "<class 'bool'>\n",
      "True\n",
      "<class 'str'>\n",
      "geeta\n"
     ]
    }
   ],
   "source": [
    "# Q4. Create a list of length 10 of your choice containing multiple types of data. Using for loop print the\n",
    "# element and its data type.\n",
    "\n",
    "l = [34,2,5,\"ram\",\"sita\",342.5,False , 34.2, True,'geeta']\n",
    "for i in l:\n",
    "    print(type(i))\n",
    "    print(i)"
   ]
  },
  {
   "cell_type": "code",
   "execution_count": 8,
   "id": "74ef1b0e-8a26-4d6a-b858-8aacf01e49c4",
   "metadata": {},
   "outputs": [
    {
     "name": "stdin",
     "output_type": "stream",
     "text": [
      "Enter the number a 16\n",
      "Enter the number b 4\n"
     ]
    },
    {
     "name": "stdout",
     "output_type": "stream",
     "text": [
      "a is purely divisible by b 1 times\n",
      "a is purely divisible by b 2 times\n"
     ]
    }
   ],
   "source": [
    "# Q5. Using a while loop, verify if the number A is purely divisible by number B and if so then how many\n",
    "# times it can be divisible.\n",
    "a = int(input(\"Enter the number a\"))\n",
    "b = int(input(\"Enter the number b\"))\n",
    "if b == 0:\n",
    "    print(\"B cannot be zero \")\n",
    "else:\n",
    "    count = 0\n",
    "    \n",
    "    while a%b == 0:\n",
    "        a = a//b\n",
    "        count = count +1 \n",
    "        if count > 0:\n",
    "           # print(f\"{a} is purely divisible by {b} and can be divided {count} times.\")\n",
    "            print( \"a is purely divisible by b\", count , \"times\")\n",
    "        else:\n",
    "            print(\"a is not divisible by b\")\n",
    "\n",
    "    \n",
    "\n"
   ]
  },
  {
   "cell_type": "code",
   "execution_count": 10,
   "id": "2f07010e-d357-4916-81a4-6d2da894b834",
   "metadata": {},
   "outputs": [
    {
     "name": "stdout",
     "output_type": "stream",
     "text": [
      "No 4  is not divisible by 3\n",
      "yes 6  is divisible by 3\n",
      "No 2  is not divisible by 3\n",
      "yes 9  is divisible by 3\n",
      "yes 3  is divisible by 3\n",
      "yes 15  is divisible by 3\n",
      "No 67  is not divisible by 3\n",
      "No 23  is not divisible by 3\n",
      "yes 12  is divisible by 3\n",
      "No 5  is not divisible by 3\n",
      "yes 375  is divisible by 3\n",
      "No 43  is not divisible by 3\n",
      "yes 63  is divisible by 3\n",
      "yes 24  is divisible by 3\n",
      "yes 75  is divisible by 3\n",
      "No 91  is not divisible by 3\n",
      "No 64  is not divisible by 3\n",
      "No 76  is not divisible by 3\n",
      "yes 78  is divisible by 3\n",
      "No 97  is not divisible by 3\n",
      "yes 90  is divisible by 3\n",
      "No 1  is not divisible by 3\n",
      "yes 0  is divisible by 3\n",
      "No 7  is not divisible by 3\n",
      "yes 45  is divisible by 3\n"
     ]
    }
   ],
   "source": [
    "# Q6. Create a list containing 25 int type data. Using for loop and if-else condition print if the element is\n",
    "# divisible by 3 or not.\n",
    "\n",
    "l = [4,6,2,9,3,15,67,23,12,5,375,43,63,24,75,91,64,76,78,97,90,1,0,7,45]\n",
    "for i in l:\n",
    "    if(i%3==0):\n",
    "        print(\"yes\" ,i ,\" is divisible by 3\")\n",
    "    else:\n",
    "        print(\"No\" , i , \" is not divisible by 3\")"
   ]
  },
  {
   "cell_type": "code",
   "execution_count": null,
   "id": "aeafae89-fbd3-45ba-b008-9178093f5714",
   "metadata": {},
   "outputs": [],
   "source": [
    "# Q7. What do you understand about mutable and immutable data types? Give examples for both showing\n",
    "# this property.\n",
    "\n",
    "# Mutable data types : Mutable data types are those whose values can be changed or modified after they \n",
    "#                      are created. example : list ,dict\n",
    "#                     we can update a list by using the fuction like append , change or delete\n",
    "# Immtable data types : Immutable data types are those whose values cannot be changed or modified after\n",
    "#                      they are created. example : String ,int , float"
   ]
  }
 ],
 "metadata": {
  "kernelspec": {
   "display_name": "Python 3 (ipykernel)",
   "language": "python",
   "name": "python3"
  },
  "language_info": {
   "codemirror_mode": {
    "name": "ipython",
    "version": 3
   },
   "file_extension": ".py",
   "mimetype": "text/x-python",
   "name": "python",
   "nbconvert_exporter": "python",
   "pygments_lexer": "ipython3",
   "version": "3.10.8"
  }
 },
 "nbformat": 4,
 "nbformat_minor": 5
}
